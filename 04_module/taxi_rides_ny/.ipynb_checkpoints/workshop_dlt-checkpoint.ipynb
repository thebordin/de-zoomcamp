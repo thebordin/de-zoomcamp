{
  "nbformat": 4,
  "nbformat_minor": 0,
  "metadata": {
    "colab": {
      "provenance": []
    },
    "kernelspec": {
      "name": "python3",
      "display_name": "Python 3"
    },
    "language_info": {
      "name": "python"
    }
  },
  "cells": [
    {
      "cell_type": "code",
      "execution_count": null,
      "metadata": {
        "id": "fvq_MJePmXtG"
      },
      "outputs": [],
      "source": [
        "!pip install dlt[duckdb]"
      ]
    },
    {
      "cell_type": "code",
      "source": [
        "!dlt --version"
      ],
      "metadata": {
        "colab": {
          "base_uri": "https://localhost:8080/"
        },
        "id": "naViNS73mupO",
        "outputId": "9bee759e-a002-4ded-9b2c-bcaa443bce63"
      },
      "execution_count": 1,
      "outputs": [
        {
          "output_type": "stream",
          "name": "stdout",
          "text": [
            "\u001b[39mdlt 1.6.1\u001b[0m\n"
          ]
        }
      ]
    },
    {
      "cell_type": "code",
      "source": [
        "import dlt\n",
        "from dlt.sources.helpers.rest_client import RESTClient\n",
        "from dlt.sources.helpers.rest_client.paginators import PageNumberPaginator\n",
        "\n",
        "\n",
        "# Use the @dlt.resource decorator to define the API source.\n",
        "@dlt.resource(name=\"ny_taxi_rides\")\n",
        "def ny_taxi():\n",
        "    client = RESTClient(\n",
        "        base_url=\"https://us-central1-dlthub-analytics.cloudfunctions.net\",\n",
        "        #Implement automatic pagination using dlt's built-in REST client.\n",
        "        paginator=PageNumberPaginator(\n",
        "            base_page=1,\n",
        "            total_path=None\n",
        "        )\n",
        "    )\n",
        "\n",
        "    for page in client.paginate(\"data_engineering_zoomcamp_api\"):\n",
        "        yield page\n",
        "\n",
        "\n",
        "# define new dlt pipeline\n",
        "pipeline = dlt.pipeline(\n",
        "    pipeline_name=\"ny_taxi_pipeline\",\n",
        "    destination=\"duckdb\",\n",
        "    dataset_name=\"ny_taxi_data\"\n",
        ")\n",
        "\n",
        "\n",
        "# Load the extracted data into DuckDB for querying.\n",
        "load_info = pipeline.run(ny_taxi)\n",
        "print(load_info)"
      ],
      "metadata": {
        "id": "uXwjVQZEniAd"
      },
      "execution_count": null,
      "outputs": []
    },
    {
      "cell_type": "code",
      "source": [
        "import duckdb\n",
        "from google.colab import data_table\n",
        "data_table.enable_dataframe_formatter()\n",
        "\n",
        "conn = duckdb.connect(f\"{pipeline.pipeline_name}.duckdb\")\n",
        "\n",
        "conn.sql(f\"SET search_path = '{pipeline.dataset_name}'\")\n",
        "\n",
        "conn.sql(\"DESCRIBE\").df()"
      ],
      "metadata": {
        "id": "oTv8TeWoqMQu"
      },
      "execution_count": null,
      "outputs": []
    },
    {
      "cell_type": "code",
      "source": [
        "df = pipeline.dataset(dataset_type=\"default\").ny_taxi_rides.df()\n",
        "print(len(df))"
      ],
      "metadata": {
        "colab": {
          "base_uri": "https://localhost:8080/"
        },
        "id": "EQXtf-DhqrR4",
        "outputId": "4a6f512f-f7a1-4a0c-a55c-34a4b5294bd5"
      },
      "execution_count": 6,
      "outputs": [
        {
          "output_type": "stream",
          "name": "stdout",
          "text": [
            "10000\n"
          ]
        }
      ]
    },
    {
      "cell_type": "code",
      "source": [
        "with pipeline.sql_client() as client:\n",
        "    res = client.execute_sql(\n",
        "            \"\"\"\n",
        "            SELECT\n",
        "            AVG(date_diff('minute', trip_pickup_date_time, trip_dropoff_date_time))\n",
        "            FROM ny_taxi_rides;\n",
        "            \"\"\"\n",
        "        )\n",
        "    print(res)"
      ],
      "metadata": {
        "colab": {
          "base_uri": "https://localhost:8080/"
        },
        "id": "snTb0SXGrAkK",
        "outputId": "9d626467-425d-4780-bc7f-ac9a3edd502c"
      },
      "execution_count": 8,
      "outputs": [
        {
          "output_type": "stream",
          "name": "stdout",
          "text": [
            "[(12.3049,)]\n"
          ]
        }
      ]
    }
  ]
}